{
  "nbformat": 4,
  "nbformat_minor": 0,
  "metadata": {
    "colab": {
      "provenance": []
    },
    "kernelspec": {
      "name": "python3",
      "display_name": "Python 3"
    },
    "language_info": {
      "name": "python"
    }
  },
  "cells": [
    {
      "cell_type": "code",
      "source": [
        "import nltk\n",
        "from nltk import word_tokenize\n",
        "import stylecloud"
      ],
      "metadata": {
        "id": "Uxj51JdiHen2"
      },
      "execution_count": null,
      "outputs": []
    },
    {
      "cell_type": "code",
      "source": [
        "###prepare file###\n",
        "file = open(\"cdu-NE.txt\", \"r\")\n",
        "file_contents = file.read()\n",
        "tokenized_raw_text = nltk.word_tokenize (file_contents)\n",
        "final_text = nltk.Text(tokenized_raw_text)"
      ],
      "metadata": {
        "id": "pf7w75wLHlTh"
      },
      "execution_count": null,
      "outputs": []
    },
    {
      "cell_type": "code",
      "source": [
        "######investigate a document######\n",
        "\n",
        "###show how many (different) words and punctuation symbold a file contains\n",
        "\n",
        "#print(\"Number of tokens: \", len(final_text))\n",
        "#print(\"Number of types: \", len(set(final_text)))\n",
        "#print(\"Lexical richness of the text:\", len(set(final_text))/len(final_text))"
      ],
      "metadata": {
        "id": "BXDa_BtBIM2f"
      },
      "execution_count": null,
      "outputs": []
    },
    {
      "cell_type": "code",
      "source": [
        "###obtain a sorted list of vocabulary items\n",
        "\n",
        "#print(\"Sorted vocabulary list:\", sorted(set(final_text)))"
      ],
      "metadata": {
        "id": "9UlYxhxPIZ8S"
      },
      "execution_count": null,
      "outputs": []
    },
    {
      "cell_type": "code",
      "source": [
        "###generate similar text\n",
        "\n",
        "#print(\"Text generation:\")\n",
        "#final_text.generate()"
      ],
      "metadata": {
        "id": "9vn6kBUzIcnq"
      },
      "execution_count": null,
      "outputs": []
    },
    {
      "cell_type": "code",
      "execution_count": null,
      "metadata": {
        "id": "qg4UjQ2HHTEV"
      },
      "outputs": [],
      "source": [
        "###create a wordcloud of your file\n",
        "\n",
        "my_long_list = [\"going\", \"news\", \"camera\", \"voiceover\", \"graphics\", \"graphic\", \"right\", \"said\", \"s\", \"new\", \"york\", \"times\", \"one\", \"like\", \"fox\", \"abc\", \"i\", \"me\", \"my\", \"myself\", \"we\", \"our\", \"ours\", \"ourselves\", \"you\", \"your\", \"yours\", \"yourself\", \"yourselves\", \"he\", \"him\", \"his\", \"himself\", \"she\", \"her\", \"hers\", \"herself\", \"it\", \"its\", \"itself\", \"they\", \"them\", \"their\", \"theirs\", \"themselves\", \"what\", \"which\", \"who\", \"whom\", \"this\", \"that\", \"these\", \"those\", \"am\", \"is\", \"are\", \"was\", \"were\", \"be\", \"been\", \"being\", \"have\", \"has\", \"had\", \"having\", \"do\", \"does\", \"did\", \"doing\", \"a\", \"an\", \"the\", \"and\", \"but\", \"if\", \"or\", \"because\", \"as\", \"until\", \"while\", \"of\", \"at\", \"by\", \"for\", \"with\", \"about\", \"against\", \"between\", \"into\", \"through\", \"during\", \"before\", \"after\", \"above\", \"below\", \"to\", \"from\", \"up\", \"down\", \"in\", \"out\", \"on\", \"off\", \"over\", \"under\", \"again\", \"further\", \"then\", \"once\", \"here\", \"there\", \"when\", \"where\", \"why\", \"how\", \"all\", \"any\", \"both\", \"each\", \"few\", \"more\", \"most\", \"other\", \"some\", \"such\", \"no\", \"nor\", \"not\", \"only\", \"own\", \"same\", \"so\", \"than\", \"too\", \"very\", \"s\", \"t\", \"can\", \"will\", \"just\", \"don\", \"should\", \"now\"]\n",
        "\n",
        "my_long_list_2 = [\"wikipedia\", \"Parlaments\", \"Deutscher\",\"Bundestag\", \"Protokoll\", \"Plenarprotokoll\", \"Sitzung\", \"tageszeitung\", \"Ressort\", \"Süddeutsche\", \"Zeitung,\" \"S\", \"ab\", \"aber\", \"abk.\", \"alle\",\n",
        "\"allem\", \"allen\", \"aller\", \"alles\", \"allg.\", \"als\", \"also\", \"am\", \"zwischen\",\n",
        "\"an\", \"ander\", \"andere\", \"anderem\", \"anderen\", \"anderer\", \"anderes\",\n",
        "\"andern\", \"anders\", \"aber\", \"auch\", \"auf\", \"aus\", \"bei\", \"bes.\",\n",
        "\"bez.\", \"bin\", \"bis\", \"bist\", \"bspw.\", \"da\", \"daß\", \"daher\", \"damit\",\n",
        "\"dann\", \"das\", \"dass\", \"dasselbe\", \"dazu\", \"dein\", \"deine\", \"deinem\",\n",
        "\"deinen\", \"deiner\", \"deines\", \"dem\", \"demselben\", \"den\", \"denn\",\n",
        "\"denselben\", \"der\", \"derer\", \"derselbe\", \"derselben\", \"des\",\n",
        "\"deshalb\", \"desselben\", \"dessen\", \"dich\", \"die\", \"dies\", \"diese\",\n",
        "\"dieselbe\", \"dieselben\", \"diesem\", \"diesen\", \"dieser\", \"dieses\",\n",
        "\"dir\", \"doch\", \"dort\", \"dt.\", \"du\", \"durch\", \"edv\", \"ehem.\", \"eigtl.\",\n",
        "\"ein\", \"eine\", \"einem\", \"einen\", \"einer\", \"eines\", \"einig\", \"einige\",\n",
        "\"einigem\", \"einigen\", \"einiger\", \"einiges\", \"einmal\", \"er\", \"es\",\n",
        "\"etc.\", \"etwas\", \"euch\", \"euer\", \"eure\", \"eurem\", \"euren\", \"eurer\",\n",
        "\"eures\", \"für\", \"ganz\", \"ganze\", \"ganzen\", \"ganzer\", \"ganzes\",\n",
        "\"gegen\", \"ggf.\", \"hab\", \"habe\", \"haben\", \"hat\", \"hatten\", \"hier\",\n",
        "\"hin\", \"hinter\", \"ich\", \"ihm\", \"ihn\", \"ihnen\", \"ihr\", \"ihre\", \"ihrem\",\n",
        "\"ihren\", \"ihrer\", \"ihres\", \"im\", \"in\", \"indem\", \"ins\", \"ist\", \"ja\",\n",
        "\"jede\", \"jedem\", \"jeden\", \"jeder\", \"jedes\", \"jene\", \"jenem\", \"jenen\",\n",
        "\"jener\", \"jenes\", \"jetzt\", \"kein\",\n",
        "\"keine\", \"keinem\", \"keinen\", \"keiner\", \"keines\",  \"mache\",\n",
        "\"machst\", \"macht\", \"machte\", \"man\", \"manche\", \"manchem\", \"manchen\",\n",
        "\"mancher\", \"manches\", \"mein\", \"meine\", \"meinem\", \"meinen\", \"meiner\",\n",
        "\"meines\", \"mich\", \"mir\", \"mit\", \"nach\", \"nein\", \"nicht\", \"nichts\",\n",
        "\"noch\", \"nun\", \"nur\", \"o.ã¤.\", \"ob\", \"oder\", \"o.g.\", \"ohne\", \"sein\",\n",
        "\"seine\", \"seinem\", \"seinen\", \"seiner\", \"seines\", \"selbst\", \"sich\", \"sie\", \"sind\", \"so\", \"solche\", \"solchem\", \"solchen\",\n",
        "\"solcher\", \"solches\",  \"sondern\", \"u.a.\", \"u.ä.\", \"u.g.\",\n",
        "\"ugs.\", \"um\", \"und\", \"uns\", \"unser\", \"unter\", \"uvm.\", \"vgl.\", \"viel\",\n",
        "\"vom\", \"von\", \"vor\", \"wãhrend\", \"wann\", \"warum\", \"was\",\n",
        "\"weg\", \"weil\", \"weiter\", \"welche\", \"welchem\", \"welchen\", \"welcher\",\n",
        "\"welches\", \"wenn\", \"wer\", \"wie\", \"wieder\", \"wir\", \"wo\", \"z.b.\", \"zu\", \"lesezeit\", \"minuten\", \n",
        "\"zum\", \"zur\", \"zwar\", \"werden\", \"wird\", \"für\", \"über\", \"seit\", \"uhr\", \"home\", \"u\", \"artikel\", \"cdu\", \"spd\", \"grüne\", \"afd\", \"linken\", \"linke\", \"csu\", \"grünen\", \"fdp\", \"sowie\", \"dabei\"]\n",
        "\n",
        "#modalverben: \"kann\", \"können\", \"könnte\", \"konnte\",\"sollte\",\n",
        "\n",
        "stylecloud.gen_stylecloud(file_path='test.txt', icon_name= \"fas fa-cloud\", custom_stopwords=my_long_list_2)"
      ]
    }
  ]
}