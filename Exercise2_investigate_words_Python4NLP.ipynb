{
  "nbformat": 4,
  "nbformat_minor": 0,
  "metadata": {
    "colab": {
      "provenance": []
    },
    "kernelspec": {
      "name": "python3",
      "display_name": "Python 3"
    },
    "language_info": {
      "name": "python"
    }
  },
  "cells": [
    {
      "cell_type": "code",
      "source": [
        "import nltk\n",
        "from nltk import word_tokenize"
      ],
      "metadata": {
        "id": "oRqmd6ZBI606"
      },
      "execution_count": null,
      "outputs": []
    },
    {
      "cell_type": "code",
      "source": [
        "nltk.download('punkt')"
      ],
      "metadata": {
        "id": "jXthD1FLmphv"
      },
      "execution_count": null,
      "outputs": []
    },
    {
      "cell_type": "code",
      "source": [
        "####make file ready for NLTK###\n",
        "\n",
        "file = open(\"test.txt\", \"r\")\n",
        "file_contents = file.read()\n",
        "tokenized_raw_text = nltk.word_tokenize(file_contents)\n",
        "final_text = nltk.Text(tokenized_raw_text)"
      ],
      "metadata": {
        "id": "baH6m2L2I9-c"
      },
      "execution_count": null,
      "outputs": []
    },
    {
      "cell_type": "code",
      "source": [
        "######investigate specific words in a file######\n",
        "\n",
        "my_word = 'test'\n",
        "\n",
        "###count word frequencies\n",
        "print(\"Word frequency of {}:\".format(my_word), final_text.count(my_word))"
      ],
      "metadata": {
        "id": "5lEaQ4QXI9xB"
      },
      "execution_count": null,
      "outputs": []
    },
    {
      "cell_type": "code",
      "source": [
        "###see words in context\n",
        "print(\"Concordance of {}:\".format(my_word))\n",
        "final_text.concordance(my_word)"
      ],
      "metadata": {
        "id": "9AIFl9cfJDf_"
      },
      "execution_count": null,
      "outputs": []
    },
    {
      "cell_type": "code",
      "source": [
        "###see words that appear in similar contexts\n",
        "print(\"Words similar to {}:\".format(my_word))\n",
        "final_text.similar(my_word)"
      ],
      "metadata": {
        "id": "kJsnnxW-JD6y"
      },
      "execution_count": null,
      "outputs": []
    }
  ]
}