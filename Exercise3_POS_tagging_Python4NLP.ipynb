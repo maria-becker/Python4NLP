{
  "nbformat": 4,
  "nbformat_minor": 0,
  "metadata": {
    "colab": {
      "provenance": []
    },
    "kernelspec": {
      "name": "python3",
      "display_name": "Python 3"
    },
    "language_info": {
      "name": "python"
    }
  },
  "cells": [
    {
      "cell_type": "code",
      "source": [
        "import spacy"
      ],
      "metadata": {
        "id": "Rvo6bK3kKnT2"
      },
      "execution_count": null,
      "outputs": []
    },
    {
      "cell_type": "code",
      "execution_count": null,
      "metadata": {
        "id": "P7HtmULPKdjW"
      },
      "outputs": [],
      "source": [
        "###prepare file###\n",
        "file = open(\"your_file.txt\", \"r\")\n",
        "file_contents = file.read()"
      ]
    },
    {
      "cell_type": "code",
      "source": [
        "###load Tagger###\n",
        "nlp = spacy.load('en_core_web_sm')\n",
        "doc = nlp(file_contents)"
      ],
      "metadata": {
        "id": "b3lg6-lzKs0-"
      },
      "execution_count": null,
      "outputs": []
    },
    {
      "cell_type": "code",
      "source": [
        "###POS Tagging###\n",
        "for token in doc:\n",
        "    print(\"Word:\", token, \";\", \"POS:\", token.pos_)"
      ],
      "metadata": {
        "id": "dM7KpQsZKqAs"
      },
      "execution_count": null,
      "outputs": []
    }
  ]
}