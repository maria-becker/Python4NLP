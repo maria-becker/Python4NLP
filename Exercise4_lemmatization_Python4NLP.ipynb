{
  "nbformat": 4,
  "nbformat_minor": 0,
  "metadata": {
    "colab": {
      "provenance": []
    },
    "kernelspec": {
      "name": "python3",
      "display_name": "Python 3"
    },
    "language_info": {
      "name": "python"
    }
  },
  "cells": [
    {
      "cell_type": "code",
      "source": [
        "import spacy"
      ],
      "metadata": {
        "id": "w1nfTd1VLC6J"
      },
      "execution_count": null,
      "outputs": []
    },
    {
      "cell_type": "code",
      "source": [
        "###prepare file###\n",
        "file = open(\"your_file.txt\", \"r\")\n",
        "file_contents = file.read()"
      ],
      "metadata": {
        "id": "AU9CD11KLEjS"
      },
      "execution_count": null,
      "outputs": []
    },
    {
      "cell_type": "code",
      "source": [
        "###load Tagger###\n",
        "nlp = spacy.load('en_core_web_sm')\n",
        "doc = nlp(file_contents)"
      ],
      "metadata": {
        "id": "gqSopHjJLGO-"
      },
      "execution_count": null,
      "outputs": []
    },
    {
      "cell_type": "code",
      "execution_count": null,
      "metadata": {
        "id": "_CWlvGccK1ze"
      },
      "outputs": [],
      "source": [
        "######Lemmatization######\n",
        "for token in doc:\n",
        "    print(\"Token:\", token, \";\", \"Lemma:\", token.lemma_)"
      ]
    }
  ]
}