{
  "nbformat": 4,
  "nbformat_minor": 0,
  "metadata": {
    "colab": {
      "provenance": []
    },
    "kernelspec": {
      "name": "python3",
      "display_name": "Python 3"
    },
    "language_info": {
      "name": "python"
    }
  },
  "cells": [
    {
      "cell_type": "code",
      "source": [
        "import io\n",
        "import nltk\n",
        "from nltk import word_tokenize\n",
        "from nltk.corpus import stopwords\n",
        "from nltk.tokenize import word_tokenize"
      ],
      "metadata": {
        "id": "lur6mXsQLaLA"
      },
      "execution_count": null,
      "outputs": []
    },
    {
      "cell_type": "code",
      "source": [
        "nltk.download('punkt')\n",
        "nltk.download('stopwords')"
      ],
      "metadata": {
        "id": "TjHTRfC0Lj_Z"
      },
      "execution_count": null,
      "outputs": []
    },
    {
      "cell_type": "code",
      "source": [
        "####make file ready for NLTK###\n",
        "file = open(\"your_file.txt\", \"r\")\n",
        "file_contents = file.read()\n",
        "tokenized_raw_text = nltk.word_tokenize(file_contents)\n",
        "final_text = nltk.Text(tokenized_raw_text)"
      ],
      "metadata": {
        "id": "AIj3gnoYLdGH"
      },
      "execution_count": null,
      "outputs": []
    },
    {
      "cell_type": "code",
      "source": [
        "####printing stopwords\n",
        "stops_ger = set(stopwords.words('german'))\n",
        "print(stops_ger)\n",
        "\n",
        "stops_eng = set(stopwords.words('english'))\n",
        "print(stops_eng)"
      ],
      "metadata": {
        "id": "9jT7XP5wLees"
      },
      "execution_count": null,
      "outputs": []
    },
    {
      "cell_type": "code",
      "source": [
        " ### stopword removal on an example sentence\n",
        "\n",
        "# blank"
      ],
      "metadata": {
        "id": "kAkHvp9kL1ci"
      },
      "execution_count": null,
      "outputs": []
    },
    {
      "cell_type": "code",
      "execution_count": null,
      "metadata": {
        "id": "flCd2MGhLVlx"
      },
      "outputs": [],
      "source": [
        "### stopword removal on a file\n",
        "stop_words = set(stopwords.words('english'))\n",
        "line = file_contents\n",
        "words = line.split()\n",
        "for r in words:\n",
        "    if not r in stop_words:\n",
        "        appendFile = open('filteredtext.txt','a')\n",
        "        appendFile.write(\" \"+r)\n",
        "        appendFile.close()"
      ]
    }
  ]
}