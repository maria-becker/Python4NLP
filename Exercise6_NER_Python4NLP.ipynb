{
  "nbformat": 4,
  "nbformat_minor": 0,
  "metadata": {
    "colab": {
      "provenance": []
    },
    "kernelspec": {
      "name": "python3",
      "display_name": "Python 3"
    },
    "language_info": {
      "name": "python"
    }
  },
  "cells": [
    {
      "cell_type": "code",
      "source": [
        "import spacy"
      ],
      "metadata": {
        "id": "E-p49f7KMVU4"
      },
      "execution_count": null,
      "outputs": []
    },
    {
      "cell_type": "code",
      "source": [
        "###Prepare File###\n",
        "file = open(\"your_file.txt\", \"r\")\n",
        "file_contents = file.read()"
      ],
      "metadata": {
        "id": "y52LyV_lMX6r"
      },
      "execution_count": null,
      "outputs": []
    },
    {
      "cell_type": "code",
      "source": [
        "###load Model###\n",
        "nlp = spacy.load(\"en_core_web_sm\")\n",
        "doc = nlp(file_contents)"
      ],
      "metadata": {
        "id": "01mgKSMPMfyi"
      },
      "execution_count": null,
      "outputs": []
    },
    {
      "cell_type": "code",
      "execution_count": null,
      "metadata": {
        "id": "EeGlrW1SMPP_"
      },
      "outputs": [],
      "source": [
        "######Named Entity Recognition######\n",
        "print([(X.text, X.label_) for X in doc.ents])"
      ]
    }
  ]
}