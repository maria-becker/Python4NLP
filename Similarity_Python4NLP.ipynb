{
  "nbformat": 4,
  "nbformat_minor": 0,
  "metadata": {
    "colab": {
      "provenance": []
    },
    "kernelspec": {
      "name": "python3",
      "display_name": "Python 3"
    },
    "language_info": {
      "name": "python"
    }
  },
  "cells": [
    {
      "cell_type": "markdown",
      "source": [
        "##Set up"
      ],
      "metadata": {
        "id": "Fm3agG64OWTf"
      }
    },
    {
      "cell_type": "code",
      "source": [
        "import pandas as pd"
      ],
      "metadata": {
        "id": "6bSh2Mk4Nc5x"
      },
      "execution_count": null,
      "outputs": []
    },
    {
      "cell_type": "code",
      "source": [
        "# Read the co-occurrence matrix\n",
        "bnc_table = pd.read_csv(\"bnc_table.csv\", index_col=0)\n",
        "#print(bnc_table)"
      ],
      "metadata": {
        "id": "YWwANZr7Ni4M"
      },
      "execution_count": null,
      "outputs": []
    },
    {
      "cell_type": "code",
      "source": [
        "# Read the WordSim353 pairs\n",
        "with open(\"wordsim_similarity_goldstandard.txt\", 'r') as f:\n",
        "    lines = f.readlines()\n",
        "\n",
        "    # a list of tuples, e.g. [('pair1word1', 'pair1word2'), ('pair2word1', 'pair2word2'), ...]\n",
        "    pairs = [(x.split()[0].lower(), x.split()[1].lower()) for x in lines]\n",
        "    #print(pairs)\n",
        "\n",
        "    # the human annotated similarity score for each pair, in the order of the pairs list. The range of the scores is [0,10]\n",
        "    human_scores = [float(x.split()[2]) for x in lines]\n",
        "    #print(human_scores)\n",
        "\n",
        "    # pairs and human scores combined, e.g. [(('pair1word1', 'pair1word2'), score1), (('pair2word1', 'pair2word2'), score2), ...]\n",
        "    pairs_with_human_score = list(zip(pairs, human_scores))"
      ],
      "metadata": {
        "id": "BQj0cMjnNoRN"
      },
      "execution_count": null,
      "outputs": []
    },
    {
      "cell_type": "markdown",
      "source": [
        "##Implementing metrics\n",
        "If you don't know how to write functions, this and other resources might help: https://www.programiz.com/python-programming/function "
      ],
      "metadata": {
        "id": "szmK-SqcN4GW"
      }
    },
    {
      "cell_type": "code",
      "source": [
        "# Write a function, which takes two vectors and returns their euclidean distance.\n",
        "# Do not use a preimplemented method (for example from scipy), though it is recommended to check you results.\n",
        "def euclidean(u, v):\n",
        "    '''your code here'''"
      ],
      "metadata": {
        "id": "rY6zw3HROD1d"
      },
      "execution_count": null,
      "outputs": []
    },
    {
      "cell_type": "code",
      "source": [
        "# Write a function, which takes two vectors and returns their cosine similarity.\n",
        "# Do not use a preimplemented method (for example from scipy), though it is recommended to check you results.\n",
        "def cosine(u, v):\n",
        "    '''your code here'''"
      ],
      "metadata": {
        "id": "NjH60HqUODse"
      },
      "execution_count": null,
      "outputs": []
    },
    {
      "cell_type": "code",
      "source": [
        "# Use your functions to calculate euclidean distance and cosine similarity for two words aka vectors from the bnc_table\n",
        "# Hint: You can use bnc_table.loc[word] to extract a row (aka the vector of the word)\n",
        "\n",
        "'''your code here'''"
      ],
      "metadata": {
        "id": "5zpFXgfgOHpn"
      },
      "execution_count": null,
      "outputs": []
    },
    {
      "cell_type": "code",
      "execution_count": null,
      "metadata": {
        "id": "CdXllNG6NI3W"
      },
      "outputs": [],
      "source": [
        "# Compare your scores against the human annotated ones.\n",
        "# You can find them already extracted as pairs, human_scores, and pairs_with_human_score\n",
        "\n",
        "'''your code here'''"
      ]
    }
  ]
}