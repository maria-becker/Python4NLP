{
  "nbformat": 4,
  "nbformat_minor": 0,
  "metadata": {
    "colab": {
      "provenance": []
    },
    "kernelspec": {
      "name": "python3",
      "display_name": "Python 3"
    },
    "language_info": {
      "name": "python"
    }
  },
  "cells": [
    {
      "cell_type": "code",
      "source": [
        "import nltk\n",
        "import textblob\n",
        "from textblob import TextBlob\n",
        "from textblob.sentiments import NaiveBayesAnalyzer\n",
        "from nltk.sentiment.vader import SentimentIntensityAnalyzer as SIA"
      ],
      "metadata": {
        "id": "bQdxAZ3lrL1O"
      },
      "execution_count": null,
      "outputs": []
    },
    {
      "cell_type": "code",
      "source": [
        "nltk.download('movie_reviews')\n",
        "nltk.download('punkt')\n",
        "nltk.download('vader_lexicon')"
      ],
      "metadata": {
        "id": "6mzsCegprfX2"
      },
      "execution_count": null,
      "outputs": []
    },
    {
      "cell_type": "code",
      "source": [
        "###Sentiment Analysis with Textblob and NLTK###\n",
        "sentence = \"I love this library\""
      ],
      "metadata": {
        "id": "sltB5SRkrUrd"
      },
      "execution_count": null,
      "outputs": []
    },
    {
      "cell_type": "code",
      "execution_count": null,
      "metadata": {
        "id": "hgfTHwdBrK8t"
      },
      "outputs": [],
      "source": [
        "#Sentiment Analysis with Textblob\n",
        "sentiment1 = TextBlob(sentence, analyzer=NaiveBayesAnalyzer())\n",
        "sentiment2 = TextBlob(sentence)\n",
        "print (\"Sentiment Textblob 1:\", sentiment1.sentiment)\n",
        "print (\"Sentiment Textblob 2:\", sentiment2.sentiment)"
      ]
    },
    {
      "cell_type": "code",
      "source": [
        "#Sentiment Analysis with NLTK\n",
        "sia = SIA()\n",
        "print (\"Sentiment NLTK\", sia.polarity_scores(sentence))"
      ],
      "metadata": {
        "id": "NSM2JYtdrSS_"
      },
      "execution_count": null,
      "outputs": []
    }
  ]
}